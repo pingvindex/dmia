{
 "cells": [
  {
   "cell_type": "code",
   "execution_count": 56,
   "metadata": {},
   "outputs": [],
   "source": [
    "import numpy as np\n",
    "import pandas as pd\n",
    "import matplotlib.pyplot as plt\n",
    "import keras as K\n",
    "import keras.layers as ll\n",
    "from sklearn.metrics import roc_auc_score\n",
    "from sklearn.model_selection import train_test_split\n",
    "\n",
    "%matplotlib inline"
   ]
  },
  {
   "cell_type": "code",
   "execution_count": 57,
   "metadata": {},
   "outputs": [],
   "source": [
    "df = pd.read_csv(\"./data/train.csv\")\n",
    "df_test = pd.read_csv(\"./data/test.csv\")"
   ]
  },
  {
   "cell_type": "code",
   "execution_count": 58,
   "metadata": {},
   "outputs": [
    {
     "data": {
      "text/plain": [
       "38"
      ]
     },
     "execution_count": 58,
     "metadata": {},
     "output_type": "execute_result"
    }
   ],
   "source": [
    "vocab = {}\n",
    "i = 1\n",
    "max_len = 0\n",
    "for word in df['Word']:\n",
    "    max_len = len(word) if len(word)>max_len else max_len\n",
    "    if word not in vocab:\n",
    "        vocab[word] = i\n",
    "        i += 1\n",
    "for word in df_test['Word']:\n",
    "    max_len = len(word) if len(word)>max_len else max_len\n",
    "    if word not in vocab:\n",
    "        vocab[word] = i\n",
    "        i += 1\n",
    "max_len"
   ]
  },
  {
   "cell_type": "code",
   "execution_count": 59,
   "metadata": {},
   "outputs": [],
   "source": [
    "model = K.Sequential(name='Surname_classifier')\n",
    "\n",
    "model.add(ll.Embedding(len(vocab), 512, input_length=1))\n",
    "\n",
    "model.add(ll.Dense(256))\n",
    "model.add(ll.BatchNormalization())\n",
    "model.add(ll.Activation('sigmoid'))\n",
    "\n",
    "model.add(ll.Dense(128))\n",
    "model.add(ll.BatchNormalization())\n",
    "model.add(ll.Activation('sigmoid'))\n",
    "\n",
    "model.add(ll.Dense(64))\n",
    "model.add(ll.BatchNormalization())\n",
    "model.add(ll.Activation('sigmoid'))\n",
    "\n",
    "model.add(ll.Flatten())\n",
    "model.add(ll.Dense(1))\n",
    "model.add(ll.BatchNormalization())\n",
    "model.add(ll.Activation('sigmoid'))\n",
    "\n",
    "model.compile('adam', 'binary_crossentropy', metrics=['accuracy'])"
   ]
  },
  {
   "cell_type": "code",
   "execution_count": 60,
   "metadata": {},
   "outputs": [
    {
     "name": "stdout",
     "output_type": "stream",
     "text": [
      "_________________________________________________________________\n",
      "Layer (type)                 Output Shape              Param #   \n",
      "=================================================================\n",
      "embedding_7 (Embedding)      (None, 1, 512)            145534464 \n",
      "_________________________________________________________________\n",
      "dense_30 (Dense)             (None, 1, 256)            131328    \n",
      "_________________________________________________________________\n",
      "batch_normalization_30 (Batc (None, 1, 256)            1024      \n",
      "_________________________________________________________________\n",
      "activation_30 (Activation)   (None, 1, 256)            0         \n",
      "_________________________________________________________________\n",
      "dense_31 (Dense)             (None, 1, 128)            32896     \n",
      "_________________________________________________________________\n",
      "batch_normalization_31 (Batc (None, 1, 128)            512       \n",
      "_________________________________________________________________\n",
      "activation_31 (Activation)   (None, 1, 128)            0         \n",
      "_________________________________________________________________\n",
      "dense_32 (Dense)             (None, 1, 64)             8256      \n",
      "_________________________________________________________________\n",
      "batch_normalization_32 (Batc (None, 1, 64)             256       \n",
      "_________________________________________________________________\n",
      "activation_32 (Activation)   (None, 1, 64)             0         \n",
      "_________________________________________________________________\n",
      "flatten_3 (Flatten)          (None, 64)                0         \n",
      "_________________________________________________________________\n",
      "dense_33 (Dense)             (None, 1)                 65        \n",
      "_________________________________________________________________\n",
      "batch_normalization_33 (Batc (None, 1)                 4         \n",
      "_________________________________________________________________\n",
      "activation_33 (Activation)   (None, 1)                 0         \n",
      "=================================================================\n",
      "Total params: 145,708,805\n",
      "Trainable params: 145,707,907\n",
      "Non-trainable params: 898\n",
      "_________________________________________________________________\n"
     ]
    }
   ],
   "source": [
    "model.summary()"
   ]
  },
  {
   "cell_type": "code",
   "execution_count": 61,
   "metadata": {},
   "outputs": [],
   "source": [
    "df['Rank'] = df['Word'].map(vocab)\n",
    "df_test['Rank'] = df_test['Word'].map(vocab)"
   ]
  },
  {
   "cell_type": "code",
   "execution_count": 62,
   "metadata": {},
   "outputs": [],
   "source": [
    "X_train, X_val, y_train, y_val = train_test_split(df['Rank'], df['Label'], stratify=df['Label'])"
   ]
  },
  {
   "cell_type": "code",
   "execution_count": 63,
   "metadata": {},
   "outputs": [
    {
     "data": {
      "text/plain": [
       "((76056,), (25352,), (76056,), (25352,))"
      ]
     },
     "execution_count": 63,
     "metadata": {},
     "output_type": "execute_result"
    }
   ],
   "source": [
    "X_train.shape, X_val.shape, y_train.shape, y_val.shape"
   ]
  },
  {
   "cell_type": "code",
   "execution_count": null,
   "metadata": {},
   "outputs": [
    {
     "name": "stderr",
     "output_type": "stream",
     "text": [
      "/home/pingvindex/apps/anaconda3/lib/python3.6/site-packages/tensorflow/python/ops/gradients_impl.py:93: UserWarning: Converting sparse IndexedSlices to a dense Tensor with 145534464 elements. This may consume a large amount of memory.\n",
      "  \"This may consume a large amount of memory.\" % num_elements)\n"
     ]
    },
    {
     "name": "stdout",
     "output_type": "stream",
     "text": [
      "Train on 76056 samples, validate on 25352 samples\n",
      "Epoch 1/1\n"
     ]
    }
   ],
   "source": [
    "model.fit(X_train, y_train, validation_data=(X_val, y_val), epochs=1)"
   ]
  },
  {
   "cell_type": "code",
   "execution_count": null,
   "metadata": {},
   "outputs": [],
   "source": [
    "y_pred = model.predict(X_val)"
   ]
  },
  {
   "cell_type": "code",
   "execution_count": null,
   "metadata": {},
   "outputs": [],
   "source": [
    "ytr_pred = model.predict(X_train)"
   ]
  },
  {
   "cell_type": "code",
   "execution_count": 49,
   "metadata": {},
   "outputs": [
    {
     "data": {
      "text/plain": [
       "0.0065685753"
      ]
     },
     "execution_count": 49,
     "metadata": {},
     "output_type": "execute_result"
    }
   ],
   "source": [
    "ras = roc_auc_score(y_val, y_pred)\n",
    "ras_tr = roc_auc_score(y_train, ytr_pred)"
   ]
  },
  {
   "cell_type": "code",
   "execution_count": null,
   "metadata": {},
   "outputs": [],
   "source": []
  }
 ],
 "metadata": {
  "kernelspec": {
   "display_name": "Python 3",
   "language": "python",
   "name": "python3"
  },
  "language_info": {
   "codemirror_mode": {
    "name": "ipython",
    "version": 3
   },
   "file_extension": ".py",
   "mimetype": "text/x-python",
   "name": "python",
   "nbconvert_exporter": "python",
   "pygments_lexer": "ipython3",
   "version": "3.6.4"
  }
 },
 "nbformat": 4,
 "nbformat_minor": 2
}
